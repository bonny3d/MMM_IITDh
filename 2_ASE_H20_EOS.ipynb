{
 "cells": [
  {
   "cell_type": "markdown",
   "metadata": {},
   "source": [
    "# Atomic simulation with ASE"
   ]
  },
  {
   "cell_type": "markdown",
   "metadata": {},
   "source": [
    "## Structural relaxation of the water molecule"
   ]
  },
  {
   "cell_type": "markdown",
   "metadata": {},
   "source": [
    "Atomic Simulation Environment ([ASE](https://wiki.fysik.dtu.dk/ase/)) is a set of tools and Python modules for setting up, manipulating, visualizing and analyzing atomistic simulations. \n",
    "\n",
    "There are different modules intended to perform different tasks such as `ase.calculators` for calculating energies, forces and stresses, `ase.md` and `ase.optimize` modules for controlling the motion of atoms, constraints objects and filters for performing `nudged-elastic-band` calculations etc.\n",
    "\n",
    "It provides an interface to very many [`calculators`](https://wiki.fysik.dtu.dk/ase/#supported-calculators) shown below:\n",
    "<img src=\"images/ASE_calculators.png\" width=500/>"
   ]
  },
  {
   "cell_type": "markdown",
   "metadata": {},
   "source": [
    "### Atoms"
   ]
  },
  {
   "cell_type": "markdown",
   "metadata": {},
   "source": [
    "The Atoms object defines a collection of atoms. \n",
    "\n",
    "Here is how to set up a $\\mathrm{H_2O}$ molecule by directly specifying the position of the two hydrogen and one oxygen atoms (in units of Ångstrom):"
   ]
  },
  {
   "cell_type": "code",
   "execution_count": 1,
   "metadata": {},
   "outputs": [],
   "source": [
    "from ase import Atoms # First impor the Atoms class\n",
    "atoms = Atoms('HOH',\n",
    "              positions=[[-0.5, 0, 0], [0, 1, 0], [0.5, 0, 0]])\n",
    "#atoms.center(vacuum=3.0)"
   ]
  },
  {
   "cell_type": "markdown",
   "metadata": {},
   "source": [
    "### Manipulation"
   ]
  },
  {
   "cell_type": "markdown",
   "metadata": {},
   "source": [
    "The `Atoms` class provides many `methods` and `attributes` to carry out different operations like getting the positions of the atoms, calcualting the distances between them, etc..\n",
    "\n",
    "The information as to which `methods` and `attributes` are available, can be obtained in two ways:\n",
    "\n",
    "- Simply do `Atoms??` in a cell and see the result!\n",
    "- `atoms` which is the instanct of the Atoms class also provides the aforementioned list by doing a double tap after `atoms.`!"
   ]
  },
  {
   "cell_type": "markdown",
   "metadata": {},
   "source": [
    "For example, lets access the positions that we have set for the atoms"
   ]
  },
  {
   "cell_type": "code",
   "execution_count": 2,
   "metadata": {},
   "outputs": [
    {
     "data": {
      "text/plain": [
       "array([[-0.5,  0. ,  0. ],\n",
       "       [ 0. ,  1. ,  0. ],\n",
       "       [ 0.5,  0. ,  0. ]])"
      ]
     },
     "execution_count": 2,
     "metadata": {},
     "output_type": "execute_result"
    }
   ],
   "source": [
    "atoms.positions"
   ]
  },
  {
   "cell_type": "markdown",
   "metadata": {},
   "source": [
    "Getting the distances between the atoms in the cell"
   ]
  },
  {
   "cell_type": "code",
   "execution_count": 3,
   "metadata": {},
   "outputs": [
    {
     "data": {
      "text/plain": [
       "array([[0.        , 1.11803399, 1.        ],\n",
       "       [1.11803399, 0.        , 1.11803399],\n",
       "       [1.        , 1.11803399, 0.        ]])"
      ]
     },
     "execution_count": 3,
     "metadata": {},
     "output_type": "execute_result"
    }
   ],
   "source": [
    "atoms.get_all_distances()"
   ]
  },
  {
   "cell_type": "markdown",
   "metadata": {},
   "source": [
    "Setting new positions can be done by one of the `set_`ter method as follows"
   ]
  },
  {
   "cell_type": "code",
   "execution_count": 4,
   "metadata": {},
   "outputs": [
    {
     "name": "stdout",
     "output_type": "stream",
     "text": [
      "Initial atoms_copy positions: \n",
      " [[-0.5  0.   0. ]\n",
      " [ 0.   1.   0. ]\n",
      " [ 0.5  0.   0. ]]\n",
      "New atoms_copy positions: \n",
      " [[0.  0.6 0. ]\n",
      " [0.  1.1 0. ]\n",
      " [0.  1.5 0. ]]\n",
      "Original atoms positions: \n",
      " [[-0.5  0.   0. ]\n",
      " [ 0.   1.   0. ]\n",
      " [ 0.5  0.   0. ]]\n"
     ]
    }
   ],
   "source": [
    "atoms_copy = atoms.copy()\n",
    "print(\"Initial atoms_copy positions: \\n\", atoms_copy.get_positions())\n",
    "atoms_copy.set_positions([[0, 0.6, 0],[0,1.1, 0], [0, 1.5, 0]]) # Set new positions\n",
    "print(\"New atoms_copy positions: \\n\", atoms_copy.get_positions())\n",
    "print(\"Original atoms positions: \\n\", atoms.get_positions())"
   ]
  },
  {
   "cell_type": "markdown",
   "metadata": {},
   "source": [
    "### Visualize"
   ]
  },
  {
   "cell_type": "markdown",
   "metadata": {},
   "source": [
    "The simplest way to visualize the atoms is the `view` function, which should bring up an interactive 3d viewer:"
   ]
  },
  {
   "cell_type": "code",
   "execution_count": 5,
   "metadata": {},
   "outputs": [
    {
     "data": {
      "application/vnd.jupyter.widget-view+json": {
       "model_id": "931ca38baeef49db96d592e1a284dcc8",
       "version_major": 2,
       "version_minor": 0
      },
      "text/plain": []
     },
     "metadata": {},
     "output_type": "display_data"
    },
    {
     "data": {
      "application/vnd.jupyter.widget-view+json": {
       "model_id": "5dfacd25c186462f9427d20e1c0d28a7",
       "version_major": 2,
       "version_minor": 0
      },
      "text/plain": [
       "HBox(children=(NGLWidget(), VBox(children=(Dropdown(description='Show', options=('All', 'O', 'H'), value='All'…"
      ]
     },
     "metadata": {},
     "output_type": "display_data"
    }
   ],
   "source": [
    "import ase.visualize as viz\n",
    "viz.view(atoms, viewer='nglview') # ASE's default gui, opens an exteral window"
   ]
  },
  {
   "cell_type": "markdown",
   "metadata": {},
   "source": [
    "### Adding calculator"
   ]
  },
  {
   "cell_type": "markdown",
   "metadata": {},
   "source": [
    "In this overview we use the effective medium theory (EMT) calculator, as it is very fast and hence useful for getting started.\n",
    "\n",
    "We can attach a calculator to the previously created Atoms objects:"
   ]
  },
  {
   "cell_type": "code",
   "execution_count": 6,
   "metadata": {},
   "outputs": [],
   "source": [
    "from ase.calculators.emt import EMT\n",
    "atoms.calc = EMT()"
   ]
  },
  {
   "cell_type": "markdown",
   "metadata": {},
   "source": [
    "### Structure relaxation"
   ]
  },
  {
   "cell_type": "markdown",
   "metadata": {},
   "source": [
    "Let’s use the `QuasiNewton` minimizer to optimize the structure of the distorted water molecule"
   ]
  },
  {
   "cell_type": "code",
   "execution_count": 7,
   "metadata": {},
   "outputs": [
    {
     "name": "stdout",
     "output_type": "stream",
     "text": [
      "                Step[ FC]     Time          Energy          fmax\n",
      "*Force-consistent energies used in optimization.\n",
      "BFGSLineSearch:    0[  0] 00:02:58        2.287527*       3.2062\n",
      "BFGSLineSearch:    1[  2] 00:02:58        2.127194*       2.0220\n",
      "BFGSLineSearch:    2[  3] 00:02:58        1.992689*       2.8077\n",
      "BFGSLineSearch:    3[  4] 00:02:58        1.906263*       0.5423\n",
      "BFGSLineSearch:    4[  6] 00:02:58        1.891730*       0.3810\n",
      "BFGSLineSearch:    5[  8] 00:02:58        1.879362*       0.0534\n",
      "BFGSLineSearch:    6[ 10] 00:02:58        1.878938*       0.0382\n",
      "BFGSLineSearch:    7[ 11] 00:02:58        1.878893*       0.0218\n",
      "BFGSLineSearch:    8[ 12] 00:02:58        1.878884*       0.0025\n",
      "BFGSLineSearch:    9[ 13] 00:02:58        1.878884*       0.0001\n"
     ]
    },
    {
     "data": {
      "text/plain": [
       "True"
      ]
     },
     "execution_count": 7,
     "metadata": {},
     "output_type": "execute_result"
    }
   ],
   "source": [
    "from ase.optimize import QuasiNewton\n",
    "\n",
    "# instantiate the QuasiNewton class to create the opt object and save the trajectory\n",
    "opt = QuasiNewton(atoms, trajectory='io_data/opt.traj')\n",
    "\n",
    "# Run the actual optimization till the maximum force acting between the atoms is less the a chosen fmax\n",
    "opt.run(fmax=0.0005)"
   ]
  },
  {
   "cell_type": "markdown",
   "metadata": {},
   "source": [
    "**Note**: The general documentation on [structure optimizations](https://wiki.fysik.dtu.dk/ase/ase/optimize.html#structure-optimizations) contains information about different algorithms, saving the state of an optimizer and other functionality which should be considered when performing expensive relaxations."
   ]
  },
  {
   "cell_type": "markdown",
   "metadata": {},
   "source": [
    "### Input Output"
   ]
  },
  {
   "cell_type": "markdown",
   "metadata": {},
   "source": [
    "Writing the atomic positions to a file is done with the `write()` function:"
   ]
  },
  {
   "cell_type": "code",
   "execution_count": 8,
   "metadata": {},
   "outputs": [],
   "source": [
    "import ase.io as io\n",
    "io.write(\"io_data/h20.xyz\", atoms)"
   ]
  },
  {
   "cell_type": "markdown",
   "metadata": {},
   "source": [
    "This will write a file in the xyz-format. Possible formats are: <img src=\"images/ase_fileformats.png\" width=300/>"
   ]
  },
  {
   "cell_type": "markdown",
   "metadata": {},
   "source": [
    "Reading from a file is done like this:"
   ]
  },
  {
   "cell_type": "code",
   "execution_count": 9,
   "metadata": {},
   "outputs": [
    {
     "data": {
      "text/plain": [
       "Atoms(symbols='HOH', pbc=False, energies=..., forces=..., calculator=SinglePointCalculator(...))"
      ]
     },
     "execution_count": 9,
     "metadata": {},
     "output_type": "execute_result"
    }
   ],
   "source": [
    "from ase.io import read\n",
    "new_atoms = read(\"io_data/h20.xyz\")\n",
    "new_atoms"
   ]
  },
  {
   "cell_type": "markdown",
   "metadata": {},
   "source": [
    "### Visualizing the trajectory"
   ]
  },
  {
   "cell_type": "markdown",
   "metadata": {},
   "source": [
    "Let's finally visualize the trajectory of our water molecule structure relaxation"
   ]
  },
  {
   "cell_type": "markdown",
   "metadata": {},
   "source": [
    "The following command will give a pop-up window where you can see the subsequent relaxation images as a movie.\n",
    "\n",
    "**Note**: It is commented out because in this share binder the gui wont open and I have saved the movie as gif and is already attached."
   ]
  },
  {
   "cell_type": "code",
   "execution_count": 10,
   "metadata": {},
   "outputs": [],
   "source": [
    "#!ase gui io_data/opt.traj"
   ]
  },
  {
   "cell_type": "markdown",
   "metadata": {},
   "source": [
    "**What is the bond angle that you would expect after the relaxation??**\n",
    "<img src=\"images/h20.gif\" width=250 height=200>"
   ]
  },
  {
   "cell_type": "markdown",
   "metadata": {},
   "source": [
    "## Equation of state (EOS)"
   ]
  },
  {
   "cell_type": "markdown",
   "metadata": {},
   "source": [
    "This example is a simple illustration of how to get a marcoscopic quntiity using atomistic simulations"
   ]
  },
  {
   "cell_type": "markdown",
   "metadata": {},
   "source": [
    "We can find the optimal lattice parameter and calculate the bulk modulus by doing an equation-of-state calculation. This means sampling the energy and lattice constant over a range of values to get the minimum, as well as the curvature $\\left ( \\dfrac{\\partial^2 E}{\\partial V^2} \\right )$, which gives us the bulk modulus."
   ]
  },
  {
   "cell_type": "markdown",
   "metadata": {},
   "source": [
    "First, do a bulk calculation for different lattice constants:"
   ]
  },
  {
   "cell_type": "code",
   "execution_count": 11,
   "metadata": {},
   "outputs": [
    {
     "name": "stdout",
     "output_type": "stream",
     "text": [
      "Starting cell volume is 15.999999999999998\n"
     ]
    },
    {
     "data": {
      "application/vnd.jupyter.widget-view+json": {
       "model_id": "0edafd429e124e4f9c145319ca2e6eab",
       "version_major": 2,
       "version_minor": 0
      },
      "text/plain": [
       "HBox(children=(NGLWidget(), VBox(children=(Dropdown(description='Show', options=('All', 'Ag'), value='All'), D…"
      ]
     },
     "metadata": {},
     "output_type": "display_data"
    }
   ],
   "source": [
    "import numpy as np\n",
    "\n",
    "from ase import Atoms\n",
    "from ase.io.trajectory import Trajectory\n",
    "from ase.calculators.emt import EMT\n",
    "import ase.visualize as viz\n",
    "\n",
    "a = 4.0  # approximate lattice constant\n",
    "b = a / 2\n",
    "ag = Atoms('Ag',\n",
    "           cell=[(0, b, b), (b, 0, b), (b, b, 0)],\n",
    "           pbc=1,\n",
    "           calculator=EMT())  # use EMT potential\n",
    "cell = ag.get_cell()\n",
    "print(f\"Starting cell volume is {ag.get_volume()}\")\n",
    "viz.view(ag, viewer=\"nglview\") # visualize formed unitcell"
   ]
  },
  {
   "cell_type": "markdown",
   "metadata": {},
   "source": [
    "If we want to make and view a supercell, this can be done using the repeat parameter in the view as follows:"
   ]
  },
  {
   "cell_type": "code",
   "execution_count": 12,
   "metadata": {},
   "outputs": [],
   "source": [
    "#viz.view(ag, repeat=[2,2,2], viewer=\"nglview\")"
   ]
  },
  {
   "cell_type": "code",
   "execution_count": 13,
   "metadata": {},
   "outputs": [],
   "source": [
    "cell = ag.get_cell() # get the current cell\n",
    "traj = Trajectory('io_data/Ag.traj', 'w') # create the traj object to save the trajectory at each cell dimension\n",
    "\n",
    "# Run over range of values lower and higher than the starting value\n",
    "for x in np.linspace(0.95, 1.05, 5):\n",
    "    ag.set_cell(cell * x, scale_atoms=True) # scale the cell by a given amount\n",
    "    ag.get_potential_energy() # get the potential energy for the given cell dimension\n",
    "    traj.write(ag) # write the configuration"
   ]
  },
  {
   "cell_type": "markdown",
   "metadata": {},
   "source": [
    "This will write a trajectory file containing five configurations of FCC silver for five different lattice constants. \n",
    "\n",
    "Now, analyse the result with the EquationOfState class:"
   ]
  },
  {
   "cell_type": "code",
   "execution_count": 14,
   "metadata": {},
   "outputs": [
    {
     "name": "stdout",
     "output_type": "stream",
     "text": [
      "100.14189241977189 GPa\n"
     ]
    },
    {
     "data": {
      "text/plain": [
       "<AxesSubplot:title={'center':'sj: E: -0.000 eV, V: 16.781 Å$^3$, B: 100.142 GPa'}, xlabel='volume [Å$^3$]', ylabel='energy [eV]'>"
      ]
     },
     "execution_count": 14,
     "metadata": {},
     "output_type": "execute_result"
    },
    {
     "data": {
      "image/png": "[encoded data removed]",
      "text/plain": [
       "<Figure size 432x288 with 1 Axes>"
      ]
     },
     "metadata": {
      "needs_background": "light"
     },
     "output_type": "display_data"
    }
   ],
   "source": [
    "from ase.io import read\n",
    "from ase.units import kJ\n",
    "from ase.eos import EquationOfState\n",
    "\n",
    "configs = read('io_data/Ag.traj@0:5')  # read 5 configurations\n",
    "\n",
    "# Extract volumes and energies:\n",
    "volumes = [ag.get_volume() for ag in configs]\n",
    "energies = [ag.get_potential_energy() for ag in configs]\n",
    "\n",
    "# instantiate the EquationOfState\n",
    "eos = EquationOfState(volumes, energies)\n",
    "\n",
    "# Use the fit() method to get the minimum energy and the corresponding  volume\n",
    "v0, e0, B = eos.fit()\n",
    "print(B / kJ * 1.0e24, 'GPa')\n",
    "eos.plot('images/Ag-eos.png')"
   ]
  },
  {
   "cell_type": "markdown",
   "metadata": {},
   "source": [
    "**If you have noticed, this all depends on a good starting point. What if we started at a cell volume value really far off from the minima??**"
   ]
  }
 ],
 "metadata": {
  "kernelspec": {
   "display_name": "Python 3 (ipykernel)",
   "language": "python",
   "name": "python3"
  },
  "language_info": {
   "codemirror_mode": {
    "name": "ipython",
    "version": 3
   },
   "file_extension": ".py",
   "mimetype": "text/x-python",
   "name": "python",
   "nbconvert_exporter": "python",
   "pygments_lexer": "ipython3",
   "version": "3.9.12"
  },
  "toc": {
   "base_numbering": 1,
   "nav_menu": {},
   "number_sections": true,
   "sideBar": true,
   "skip_h1_title": true,
   "title_cell": "Table of Contents",
   "title_sidebar": "Contents",
   "toc_cell": false,
   "toc_position": {
    "height": "calc(100% - 180px)",
    "left": "10px",
    "top": "150px",
    "width": "165px"
   },
   "toc_section_display": true,
   "toc_window_display": true
  }
 },
 "nbformat": 4,
 "nbformat_minor": 4
}
