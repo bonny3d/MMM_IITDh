{
 "cells": [
  {
   "cell_type": "markdown",
   "metadata": {},
   "source": [
    "# Atomic simulation with ASE"
   ]
  },
  {
   "cell_type": "markdown",
   "metadata": {},
   "source": [
    "Atomic Simulation Environment ([ASE](https://wiki.fysik.dtu.dk/ase/)) is a set of tools and Python modules for setting up, manipulating, visualizing and analyzing atomistic simulations. \n",
    "\n",
    "There are different modules intended to perform different tasks such as `ase.calculators` for calculating energies, forces and stresses, `ase.md` and `ase.optimize` modules for controlling the motion of atoms, constraints objects and filters for performing `nudged-elastic-band` calculations etc.\n",
    "\n",
    "It provides an interface to very many [`calculators`](https://wiki.fysik.dtu.dk/ase/#supported-calculators) shown below:\n",
    "<img src=\"images/ASE_calculators.png\" width=500/>"
   ]
  },
  {
   "cell_type": "markdown",
   "metadata": {},
   "source": [
    "## Atoms"
   ]
  },
  {
   "cell_type": "markdown",
   "metadata": {},
   "source": [
    "The Atoms object defines a collection of atoms. \n",
    "\n",
    "Here is how to set up a $\\mathrm{H_2O}$ molecule by directly specifying the position of the two hydrogen and one oxygen atoms (in units of Ångstrom):"
   ]
  },
  {
   "cell_type": "code",
   "execution_count": 1,
   "metadata": {},
   "outputs": [],
   "source": [
    "from ase import Atoms # First impor the Atoms class\n",
    "atoms = Atoms('HOH',\n",
    "              positions=[[-0.5, 0, 0], [0, 1, 0], [0.5, 0, 0]])\n",
    "atoms.center(vacuum=3.0)"
   ]
  },
  {
   "cell_type": "markdown",
   "metadata": {},
   "source": [
    "### Manipulation"
   ]
  },
  {
   "cell_type": "markdown",
   "metadata": {},
   "source": [
    "The `Atoms` class provides many `methods` and `attributes` to carry out different operations like getting the positions of the atoms, calcualting the distances between them, etc..\n",
    "\n",
    "The information as to which `methods` and `attributes` are available, can be obtained in two ways:\n",
    "\n",
    "- Simply do `Atoms??` in a cell and see the result!\n",
    "- `atoms` which is the instanct of the Atoms class also provides the aforementioned list by doing a double tap after `atoms.`!"
   ]
  },
  {
   "cell_type": "markdown",
   "metadata": {},
   "source": [
    "For example, lets access the positions that we have set for the atoms"
   ]
  },
  {
   "cell_type": "code",
   "execution_count": 2,
   "metadata": {},
   "outputs": [
    {
     "data": {
      "text/plain": [
       "array([[3. , 3. , 3. ],\n",
       "       [3.5, 4. , 3. ],\n",
       "       [4. , 3. , 3. ]])"
      ]
     },
     "execution_count": 2,
     "metadata": {},
     "output_type": "execute_result"
    }
   ],
   "source": [
    "atoms.positions"
   ]
  },
  {
   "cell_type": "markdown",
   "metadata": {},
   "source": [
    "Getting the distances between the atoms in the cell"
   ]
  },
  {
   "cell_type": "code",
   "execution_count": 3,
   "metadata": {},
   "outputs": [
    {
     "data": {
      "text/plain": [
       "array([[0.        , 1.11803399, 1.        ],\n",
       "       [1.11803399, 0.        , 1.11803399],\n",
       "       [1.        , 1.11803399, 0.        ]])"
      ]
     },
     "execution_count": 3,
     "metadata": {},
     "output_type": "execute_result"
    }
   ],
   "source": [
    "atoms.get_all_distances()"
   ]
  },
  {
   "cell_type": "markdown",
   "metadata": {},
   "source": [
    "Setting new positions can be done by one of the `set_`ter method as follows"
   ]
  },
  {
   "cell_type": "code",
   "execution_count": 4,
   "metadata": {},
   "outputs": [
    {
     "name": "stdout",
     "output_type": "stream",
     "text": [
      "Initial atoms_copy positions: \n",
      " [[3.  3.  3. ]\n",
      " [3.5 4.  3. ]\n",
      " [4.  3.  3. ]]\n",
      "New atoms_copy positions: \n",
      " [[0.  0.6 0. ]\n",
      " [0.  1.1 0. ]\n",
      " [0.  1.5 0. ]]\n",
      "Original atoms positions: \n",
      " [[3.  3.  3. ]\n",
      " [3.5 4.  3. ]\n",
      " [4.  3.  3. ]]\n"
     ]
    }
   ],
   "source": [
    "atoms_copy = atoms.copy()\n",
    "print(\"Initial atoms_copy positions: \\n\", atoms_copy.get_positions())\n",
    "atoms_copy.set_positions([[0, 0.6, 0],[0,1.1, 0], [0, 1.5, 0]]) # Set new positions\n",
    "print(\"New atoms_copy positions: \\n\", atoms_copy.get_positions())\n",
    "print(\"Original atoms positions: \\n\", atoms.get_positions())"
   ]
  },
  {
   "cell_type": "markdown",
   "metadata": {},
   "source": [
    "## Visualize"
   ]
  },
  {
   "cell_type": "markdown",
   "metadata": {},
   "source": [
    "The simplest way to visualize the atoms is the `view` function, which should bring up an interactive 3d viewer:"
   ]
  },
  {
   "cell_type": "code",
   "execution_count": 5,
   "metadata": {},
   "outputs": [
    {
     "data": {
      "text/plain": [
       "<Popen: returncode: None args: ['/home/bdongre/Downloads/Software/anaconda3/...>"
      ]
     },
     "execution_count": 5,
     "metadata": {},
     "output_type": "execute_result"
    }
   ],
   "source": [
    "import ase.visualize as viz\n",
    "viz.view(atoms) # ASE's default gui, opens an exteral window"
   ]
  },
  {
   "cell_type": "markdown",
   "metadata": {},
   "source": [
    "Alternatively, if you prefer to embed the viewer in the notebook, which usees the `nglview` backend for the `view` function."
   ]
  },
  {
   "cell_type": "code",
   "execution_count": 6,
   "metadata": {},
   "outputs": [],
   "source": [
    "#viz.view(atoms, viewer='nglview')"
   ]
  },
  {
   "cell_type": "markdown",
   "metadata": {},
   "source": [
    "## Adding calculator"
   ]
  },
  {
   "cell_type": "markdown",
   "metadata": {},
   "source": [
    "In this overview we use the effective medium theory (EMT) calculator, as it is very fast and hence useful for getting started.\n",
    "\n",
    "We can attach a calculator to the previously created Atoms objects:"
   ]
  },
  {
   "cell_type": "code",
   "execution_count": 7,
   "metadata": {},
   "outputs": [],
   "source": [
    "from ase.calculators.emt import EMT\n",
    "atoms.calc = EMT()"
   ]
  },
  {
   "cell_type": "markdown",
   "metadata": {},
   "source": [
    "## Structure relaxation"
   ]
  },
  {
   "cell_type": "markdown",
   "metadata": {},
   "source": [
    "Let’s use the `QuasiNewton` minimizer to optimize the structure of the distortet water molecule"
   ]
  },
  {
   "cell_type": "code",
   "execution_count": 8,
   "metadata": {},
   "outputs": [
    {
     "name": "stdout",
     "output_type": "stream",
     "text": [
      "                Step[ FC]     Time          Energy          fmax\n",
      "*Force-consistent energies used in optimization.\n",
      "BFGSLineSearch:    0[  0] 22:38:50        2.287527*       3.2062\n",
      "BFGSLineSearch:    1[  2] 22:38:50        2.127194*       2.0220\n",
      "BFGSLineSearch:    2[  3] 22:38:50        1.992689*       2.8077\n",
      "BFGSLineSearch:    3[  4] 22:38:50        1.906263*       0.5423\n",
      "BFGSLineSearch:    4[  6] 22:38:50        1.891730*       0.3810\n",
      "BFGSLineSearch:    5[  8] 22:38:50        1.879362*       0.0534\n",
      "BFGSLineSearch:    6[ 10] 22:38:50        1.878938*       0.0382\n",
      "BFGSLineSearch:    7[ 11] 22:38:50        1.878893*       0.0218\n",
      "BFGSLineSearch:    8[ 12] 22:38:50        1.878884*       0.0025\n",
      "BFGSLineSearch:    9[ 13] 22:38:50        1.878884*       0.0001\n"
     ]
    },
    {
     "data": {
      "text/plain": [
       "True"
      ]
     },
     "execution_count": 8,
     "metadata": {},
     "output_type": "execute_result"
    }
   ],
   "source": [
    "from ase.optimize import QuasiNewton\n",
    "\n",
    "# create the QuasiNewton class to create the opt object and save the trajectory\n",
    "opt = QuasiNewton(atoms, trajectory='io_data/opt.traj')\n",
    "\n",
    "# Run the actual optimization till the maximum force acting between the atoms is less the a chosen fmax\n",
    "opt.run(fmax=0.0005)"
   ]
  },
  {
   "cell_type": "markdown",
   "metadata": {},
   "source": [
    "**Note**: The general documentation on [structure optimizations](https://wiki.fysik.dtu.dk/ase/ase/optimize.html#structure-optimizations) contains information about different algorithms, saving the state of an optimizer and other functionality which should be considered when performing expensive relaxations."
   ]
  },
  {
   "cell_type": "markdown",
   "metadata": {},
   "source": [
    "## Input Output"
   ]
  },
  {
   "cell_type": "markdown",
   "metadata": {},
   "source": [
    "Writing the atomic positions to a file is done with the `write()` function:"
   ]
  },
  {
   "cell_type": "code",
   "execution_count": 9,
   "metadata": {},
   "outputs": [],
   "source": [
    "import ase.io as io\n",
    "io.write(\"io_data/h20.xyz\", atoms)"
   ]
  },
  {
   "cell_type": "markdown",
   "metadata": {},
   "source": [
    "This will write a file in the xyz-format. Possible formats are: <img src=\"images/ase_fileformats.png\" width=300/>"
   ]
  },
  {
   "cell_type": "markdown",
   "metadata": {},
   "source": [
    "Reading from a file is done like this:"
   ]
  },
  {
   "cell_type": "code",
   "execution_count": 10,
   "metadata": {},
   "outputs": [
    {
     "data": {
      "text/plain": [
       "Atoms(symbols='HOH', pbc=False, cell=[7.0, 7.0, 6.0], energies=..., forces=..., calculator=SinglePointCalculator(...))"
      ]
     },
     "execution_count": 10,
     "metadata": {},
     "output_type": "execute_result"
    }
   ],
   "source": [
    "from ase.io import read\n",
    "new_atoms = read(\"io_data/h20.xyz\")\n",
    "new_atoms"
   ]
  },
  {
   "cell_type": "markdown",
   "metadata": {},
   "source": [
    "## Visualizing the trajectory"
   ]
  },
  {
   "cell_type": "markdown",
   "metadata": {},
   "source": [
    "Let's finally visualize the trajectory of our water molecule structure relaxation"
   ]
  },
  {
   "cell_type": "code",
   "execution_count": 11,
   "metadata": {},
   "outputs": [],
   "source": [
    "# First read the trajecotry as follows\n",
    "traj = io.read('io_data/opt.traj')"
   ]
  },
  {
   "cell_type": "markdown",
   "metadata": {},
   "source": [
    "Run the following command to get the pop-up window ase gui to see the subsequent relaxation images as a movie.\n",
    "\n",
    "**Note**: I have commented it out as I have saved the movie as gif and is already attached."
   ]
  },
  {
   "cell_type": "code",
   "execution_count": 12,
   "metadata": {},
   "outputs": [],
   "source": [
    "#!ase gui io_data/opt.traj"
   ]
  },
  {
   "cell_type": "markdown",
   "metadata": {},
   "source": [
    "**What is the bond angle that you would expect after the relaxation??**\n",
    "<img src=\"h20.gif\" width=250 height=200>"
   ]
  }
 ],
 "metadata": {
  "kernelspec": {
   "display_name": "Python 3 (ipykernel)",
   "language": "python",
   "name": "python3"
  },
  "language_info": {
   "codemirror_mode": {
    "name": "ipython",
    "version": 3
   },
   "file_extension": ".py",
   "mimetype": "text/x-python",
   "name": "python",
   "nbconvert_exporter": "python",
   "pygments_lexer": "ipython3",
   "version": "3.9.12"
  },
  "toc": {
   "base_numbering": 1,
   "nav_menu": {},
   "number_sections": true,
   "sideBar": true,
   "skip_h1_title": true,
   "title_cell": "Table of Contents",
   "title_sidebar": "Contents",
   "toc_cell": false,
   "toc_position": {
    "height": "calc(100% - 180px)",
    "left": "10px",
    "top": "150px",
    "width": "165px"
   },
   "toc_section_display": true,
   "toc_window_display": true
  }
 },
 "nbformat": 4,
 "nbformat_minor": 4
}
