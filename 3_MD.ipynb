{
 "cells": [
  {
   "cell_type": "markdown",
   "id": "7507e535",
   "metadata": {},
   "source": [
    "# Introduction to Molecular Dynamics Simulation with Python"
   ]
  },
  {
   "cell_type": "markdown",
   "id": "e3a2533d",
   "metadata": {},
   "source": [
    "<img src=\"images/MD_rotor_250K_1ns.gif\" width=250/>"
   ]
  },
  {
   "cell_type": "markdown",
   "id": "44fe5c74",
   "metadata": {},
   "source": [
    "This tutorial has been adpated form Jacob Maritn's [blogspot](https://nznano.blogspot.com/2017/11/molecular-dynamics-in-python.html)."
   ]
  },
  {
   "cell_type": "markdown",
   "id": "325a3757",
   "metadata": {},
   "source": [
    "## What is MD?"
   ]
  },
  {
   "cell_type": "markdown",
   "id": "635c68e1",
   "metadata": {},
   "source": [
    "- Molecular dynamics (MD) is a computer simulation method for analyzing the physical movements of atoms and molecules. The atoms and molecules are allowed to interact for a fixed period of time, giving a view of the dynamic \"evolution\" of the system.\n",
    "- In the most common version, the trajectories of atoms and molecules are determined by numerically solving Newton's equations of motion for a system of interacting particles, where forces between the particles and their potential energies are often calculated using interatomic potentials or molecular mechanics force fields.\n",
    "\n",
    "- There are many different applications to molecular dynamics including structure optimizations, calcualting macroscopic quantities, drug discover, etc.."
   ]
  },
  {
   "cell_type": "markdown",
   "id": "e5ed740b",
   "metadata": {},
   "source": [
    "Most molecular dynamics programs use classical approximations (Newtonian mechanics) to describe the energy of the system as a function of the positions of the atoms/particles.\n",
    "$$E(\\mathbf{r})$$\n",
    "\n",
    "**Note**: For simplicity we show the equations in one dimension.\n",
    "\n",
    "We can use Newton's second law to describe the motion of the particles through time.\n",
    "$$F = m\\mathbf{a} = m \\dfrac {d ^2 \\mathbf{x}}{d t^2}$$\n",
    "\n",
    "The force can be calculated in one dimension by taking the derivative with respect to $x$ (or in three dimensional vector notation, the gradient $\\nabla$) of the potential energy $E(\\mathbf{r})$.\n",
    "$$F = - \\dfrac {d E}{d x} = -\\nabla E(\\mathbf{r})$$\n",
    "\n",
    "One of the first steps in MD, is to calculate the forces acting on the atoms given a potential and the positions of the atoms."
   ]
  },
  {
   "cell_type": "markdown",
   "id": "4b508e0b",
   "metadata": {},
   "source": [
    "### MD algorightm"
   ]
  },
  {
   "cell_type": "markdown",
   "id": "0aa9b937",
   "metadata": {},
   "source": [
    "Here's what a simple MD algorithm looks like\n",
    "<img src=\"images/MDalgo.png\" width=350/>"
   ]
  },
  {
   "cell_type": "markdown",
   "id": "bcef2ae0",
   "metadata": {},
   "source": [
    "So let's get started with one of the simplest interatomic potentials out there, the\n",
    "### Lennard-Jones potential"
   ]
  },
  {
   "cell_type": "markdown",
   "id": "159551a1",
   "metadata": {},
   "source": [
    "The potential energy of the 12-6 Lennard-Jones potential is given as:\n",
    "$$E_{LJ}({r}) = 4\\epsilon \\left[ \\left(\\dfrac{\\sigma}{r}\\right)^{12} - \\left(\\dfrac{\\sigma}{r}\\right)^{6} \\right]$$\n",
    "where, $\\sigma$ is the radius where the potential is zero and is defined as the van der waals radius. $\\epsilon$ is the energy minimum of the interaction (see the figure below)."
   ]
  },
  {
   "cell_type": "code",
   "execution_count": 1,
   "id": "bb826f00",
   "metadata": {
    "scrolled": true
   },
   "outputs": [
    {
     "data": {
      "text/plain": [
       "<matplotlib.lines.Line2D at 0x7f062cbc29a0>"
      ]
     },
     "execution_count": 1,
     "metadata": {},
     "output_type": "execute_result"
    },
    {
     "data": {
      "image/png": "[encoded data removed]",
      "text/plain": [
       "<Figure size 432x432 with 1 Axes>"
      ]
     },
     "metadata": {
      "needs_background": "light"
     },
     "output_type": "display_data"
    }
   ],
   "source": [
    "#Import a plotting libraries and a maths library \n",
    "import matplotlib.pyplot as plt\n",
    "import numpy as np\n",
    "%matplotlib inline\n",
    "\n",
    "r = np.linspace(0.01,3.0,num=500) # Make a radius vector\n",
    "epsilon = 1 # Energy minimum\n",
    "sigma = 1 # Distance to zero crossing point\n",
    "E_LJ = 4*epsilon*((sigma/r)**12-(sigma/r)**6) # Lennard-Jones potential\n",
    "\n",
    "plt.figure(figsize=[6,6])\n",
    "plt.plot(r,E_LJ,'r-',linewidth=1,label=r\" $LJ\\; pot$\") # Red line is unshifted LJ\n",
    "\n",
    "# The cutoff and shifting value\n",
    "Rcutoff = 2.5\n",
    "phicutoff = 4.0/(Rcutoff**12)-4.0/(Rcutoff**6) # Shifts the potential so at the cutoff the potential goes to zero\n",
    "\n",
    "E_LJ_shift = E_LJ - phicutoff # Subtract the value of the potential at r=2.5\n",
    "\n",
    "plt.plot(r[:415],E_LJ_shift[:415],'b-',linewidth=1,label=r\"$LJ\\; pot\\; shifted$\") # Blue line is shifted\n",
    "\n",
    "#Plot formatting\n",
    "plt.rc('text', usetex=True)\n",
    "plt.rc('xtick', labelsize=20) \n",
    "plt.rc('ytick', labelsize=20) \n",
    "plt.title(r\"$Lennard-Jones\\; potential$\",fontsize=20)\n",
    "plt.xlim([0.0,3.0])\n",
    "plt.ylim([-1.5,1.5])\n",
    "plt.ylabel(r\"$E_{LJ}/\\epsilon$\",fontsize=20)\n",
    "plt.xlabel(r\"$r/\\sigma$\",fontsize=20)\n",
    "plt.legend(frameon=False,fontsize=20)\n",
    "plt.axhline(0, color='grey',linestyle='--',linewidth=2)\n",
    "plt.axvline(1, color='grey',linestyle='--',linewidth=2)"
   ]
  },
  {
   "cell_type": "markdown",
   "id": "731c1045",
   "metadata": {},
   "source": [
    "### Function for Computing the forces\n",
    "As mentioned above, the forces between particles can be calculated from the derivative/gradient of their potential energy. $F=−\\nabla E(r)$\n",
    "\n",
    "Then, the forces for the LJ potential will be:\n",
    "$$F_{LJ}({r}) = \\epsilon \\left[ 48\\left(\\dfrac{\\sigma}{r}\\right)^{13} - 24\\left(\\dfrac{\\sigma}{r}\\right)^{7} \\right]$$\n",
    "\n",
    "In this method we compute the forces on a group of atoms located inside a box of given dimension"
   ]
  },
  {
   "cell_type": "code",
   "execution_count": 2,
   "id": "76a924a9",
   "metadata": {},
   "outputs": [],
   "source": [
    "def Compute_Forces(pos,acc,ene_pot,epsilon,BoxSize,DIM,N):\n",
    "    # Compute forces on positions using the Lennard-Jones potential\n",
    "    # Uses double nested loop which is slow O(N^2) time unsuitable for large systems\n",
    "    Sij = np.zeros(DIM) # Box scaled units\n",
    "    Rij = np.zeros(DIM) # Real space units\n",
    "    \n",
    "    #Set all variables to zero\n",
    "    ene_pot = ene_pot*0.0\n",
    "    acc = acc*0.0\n",
    "    virial=0.0\n",
    "    \n",
    "    # Loop over all pairs of particles\n",
    "    for i in range(N-1):\n",
    "        for j in range(i+1,N): #i+1 to N ensures we do not double count\n",
    "            Sij = pos[i,:]-pos[j,:] # Distance in box scaled units\n",
    "            for l in range(DIM): # Periodic interactions\n",
    "                if (np.abs(Sij[l])>0.5):\n",
    "                    Sij[l] = Sij[l] - np.copysign(1.0,Sij[l]) # If distance is greater than 0.5  (scaled units) then subtract 0.5 to find periodic interaction distance.\n",
    "            \n",
    "            Rij = BoxSize*Sij # Scale the box to the real units in this case reduced LJ units\n",
    "            Rsqij = np.dot(Rij,Rij) # Calculate the square of the distance\n",
    "            Rsijnorm = 1.0 #np.sqrt(Rsqij)\n",
    "            \n",
    "            if(Rsqij < Rcutoff**2):\n",
    "                # Calculate LJ potential inside cutoff\n",
    "                # We calculate parts of the LJ potential at a time to improve the efficieny of the computation (most important for compiled code)\n",
    "                rm2 = 1.0/Rsqij # 1/r^2\n",
    "                rm6 = rm2**3.0 # 1/r^6\n",
    "                rm12 = rm6**2.0 # 1/r^12\n",
    "                phi = epsilon*(4.0*(rm12-rm6)-phicutoff) # 4[1/r^12 - 1/r^6] - phi(Rc) - we are using the shifted LJ potential\n",
    "                # The following is dphi = -(1/r)(dV/dr)\n",
    "                dphi = epsilon*24.0*Rsijnorm*rm2*(2.0*rm12-rm6) # 24[2/r^14 - 1/r^8]\n",
    "                ene_pot[i] = ene_pot[i]+0.5*phi # Accumulate energy\n",
    "                ene_pot[j] = ene_pot[j]+0.5*phi # Accumulate energy\n",
    "                virial = virial + dphi*np.sqrt(Rsqij) # Virial is needed to calculate the pressure\n",
    "                acc[i,:] = acc[i,:]+dphi*Sij # Accumulate forces\n",
    "                acc[j,:] = acc[j,:]-dphi*Sij # (Fji=-Fij)\n",
    "    return acc, np.sum(ene_pot)/N, -virial/DIM # return the acceleration vector, potential energy and virial coefficient"
   ]
  },
  {
   "cell_type": "markdown",
   "id": "f6c0709a",
   "metadata": {},
   "source": [
    "### Function for computing the temperature\n",
    "Temperature is a macroscopic quantity. Using the kinetic energy, we can calculate the temperature as:\n",
    "$$E_K = \\dfrac{1}{2}mv^2$$\n",
    "$$k_B T = \\dfrac{2}{3}\\sum_N E_K $$"
   ]
  },
  {
   "cell_type": "code",
   "execution_count": 3,
   "id": "b481bdf2",
   "metadata": {},
   "outputs": [],
   "source": [
    "def Calculate_Temperature(vel,BoxSize,DIM,N):\n",
    "    \n",
    "    ene_kin = 0.0\n",
    "    \n",
    "    for i in range(N):\n",
    "        real_vel = BoxSize*vel[i,:]\n",
    "        ene_kin = ene_kin + 0.5*np.dot(real_vel,real_vel)\n",
    "    \n",
    "    ene_kin_aver = 1.0*ene_kin/N\n",
    "    temperature = 2.0*ene_kin_aver/DIM\n",
    "    \n",
    "    return ene_kin_aver,temperature"
   ]
  },
  {
   "cell_type": "markdown",
   "id": "a17aec30",
   "metadata": {},
   "source": [
    "### Intializing the positions"
   ]
  },
  {
   "cell_type": "code",
   "execution_count": 4,
   "id": "ea49f471",
   "metadata": {},
   "outputs": [
    {
     "name": "stdout",
     "output_type": "stream",
     "text": [
      "volume =  100.0  density =  0.32\n"
     ]
    }
   ],
   "source": [
    "DIM = 2 # Dimensions\n",
    "N = 32\n",
    "\n",
    "BoxSize = 10.0#6.35 \n",
    "\n",
    "volume  = BoxSize**DIM\n",
    "density = N / volume\n",
    "print(\"volume = \", volume, \" density = \", density)\n",
    "\n",
    "pos = np.zeros([N,DIM])\n",
    "        \n",
    "#pos = np.genfromtxt('output.dat',skip_header=1) # Load positions from file\n",
    "pos = np.array([[1, 3], [5, 4], [4, 8], [1, 6], [1, 4], [5, 8], [4, 4], [8, 7], [3, 8],\n",
    " [3, 6], [8, 2], [4, 5], [3, 3], [2, 2], [5, 5],[6,6],[7,7],[8,8],[9,9],[3,7],[2,7],\n",
    "                [4,6],[2,3],[2,4],[3,4],[3,5],[4,1],[4,2],[5,1],[5,7], [6,1],[6,7]])\n",
    "#print(len(np.unique(pos, axis=0)))\n",
    "pos = pos[:,:DIM]/BoxSize\n",
    "#print(pos)\n",
    "\n",
    "MassCentre = np.sum(pos,axis=0)/N\n",
    "\n",
    "for i in range(DIM):\n",
    "    pos[:,i] = pos[:,i]-MassCentre[i]\n",
    "    "
   ]
  },
  {
   "cell_type": "markdown",
   "id": "0673d938",
   "metadata": {},
   "source": [
    "### Setting up the simulation"
   ]
  },
  {
   "cell_type": "code",
   "execution_count": 5,
   "id": "86b98056",
   "metadata": {},
   "outputs": [],
   "source": [
    "NSteps=10000 # Number of steps\n",
    "deltat = 0.0032 # Time step in reduced time units\n",
    "TRequested = 0.2#b #Reduced temperature\n",
    "DumpFreq = 100 # Save the position to file every DumpFreq steps\n",
    "epsilon = 1.0 # LJ parameter for the energy between particles"
   ]
  },
  {
   "cell_type": "markdown",
   "id": "89a7c227",
   "metadata": {},
   "source": [
    "### The main() function for assembly\n",
    "We will make use of the [velocity Verlet](https://en.wikipedia.org/wiki/Verlet_integration#Velocity_Verlet) integrator which splits the velocity update into two steps initially doing a half step then modifying the acceleration and then doing the second velocity update. Written in full, this gives:\n",
    "1. Calculate $x(t+\\Delta t)=x(t)+v(t+\\dfrac{1}{2})\\Delta t$\n",
    "2. Calculate $v(t+\\dfrac{1}{2}\\Delta t)=v(t)+\\dfrac{1}{2}a(t) \\Delta t$\n",
    "3. Derive $a(t+\\Delta t)$ from the interaction potential using $x(t+\\Delta t)$\n",
    "4. Calculate $v(t\\Delta t)=v(t+\\dfrac{1}{2})+\\dfrac{1}{2}a(t+\\Delta t)\\Delta t$\n",
    "\n",
    "**Note**: Between step 1 and 2 we rescale the velocities to maintain the temperature at the requested value (NPT) ensemble."
   ]
  },
  {
   "cell_type": "code",
   "execution_count": 6,
   "id": "29ff8830",
   "metadata": {},
   "outputs": [],
   "source": [
    "# Main MD loop\n",
    "def main(pos,NSteps,deltat,TRequested,DumpFreq,epsilon,BoxSize,DIM):\n",
    "    \n",
    "    # Vectors to store parameter values at each step\n",
    "    N = np.size(pos[:,1])\n",
    "    ene_kin_aver = np.ones(NSteps)\n",
    "    ene_pot_aver = np.ones(NSteps)\n",
    "    temperature = np.ones(NSteps)\n",
    "    virial = np.ones(NSteps)\n",
    "    pressure = np.ones(NSteps)\n",
    "    ene_pot = np.ones(N)\n",
    "\n",
    "    # Initialize the velocities randomly\n",
    "    vel = (np.random.randn(N,DIM)-0.5)\n",
    "    acc = (np.random.randn(N,DIM)-0.5)\n",
    "\n",
    "    # Open file which we will save the outputs to\n",
    "    f = open('io_data/mdtraj.xyz', 'w')\n",
    "    \n",
    "    for k in range(NSteps):\n",
    "        \n",
    "        # Refold positions according to periodic boundary conditions\n",
    "        for i in range(DIM):\n",
    "            period = np.where(pos[:,i] > 0.5)\n",
    "            pos[period,i]=pos[period,i]-1.0\n",
    "            period = np.where(pos[:,i] < -0.5)\n",
    "            pos[period,i]=pos[period,i]+1.0\n",
    "\n",
    "        # r(t+dt) modify positions according to velocity and acceleration\n",
    "        pos = pos + deltat*vel + 0.5*(deltat**2.0)*acc # Step 1\n",
    "\n",
    "        # Calculate temperature\n",
    "        ene_kin_aver[k],temperature[k] = Calculate_Temperature(vel,BoxSize,DIM,N)\n",
    "\n",
    "        # Rescale velocities and take half step\n",
    "        chi = np.sqrt(TRequested/temperature[k])\n",
    "        vel = chi*vel + 0.5*deltat*acc # v(t+dt/2) Step 2\n",
    "\n",
    "        # Compute forces a(t+dt),ene_pot,virial\n",
    "        acc, ene_pot_aver[k], virial[k] = Compute_Forces(pos,acc,ene_pot,epsilon,BoxSize,DIM,N) # Step 3\n",
    "\n",
    "        # Complete the velocity step \n",
    "        vel = vel + 0.5*deltat*acc # v(t+dt/2) Step 4\n",
    "\n",
    "        # Calculate temperature\n",
    "        ene_kin_aver[k],temperature[k] = Calculate_Temperature(vel,BoxSize,DIM,N)\n",
    "\n",
    "        # Calculate pressure\n",
    "        pressure[k]= density*temperature[k] + virial[k]/volume\n",
    "        \n",
    "        \n",
    "        # Print output to file every DumpFreq number of steps\n",
    "        if(k%DumpFreq==0): # The % symbol is the modulus so if the Step is a whole multiple of DumpFreq then print the values\n",
    "\n",
    "            f.write(\"%s\\n\" %(N)) # Write the number of particles to file\n",
    "            # Write all of the quantities at this step to the file\n",
    "            f.write(\"Energy %s, Temperature %.5f\\n\" %(ene_kin_aver[k]+ene_pot_aver[k],temperature[k]))\n",
    "            for n in range(N): # Write the positions to file\n",
    "                f.write(\"X\"+\" \")\n",
    "                for l in range(DIM):\n",
    "                    f.write(str(pos[n][l]*BoxSize)+\" \")\n",
    "                f.write(\"\\n\")\n",
    "            \n",
    "            if(DIM==2):\n",
    "                import matplotlib.pyplot as plt\n",
    "                from IPython import display\n",
    "                plt.cla()\n",
    "                plt.xlim(-0.5*BoxSize,0.5*BoxSize)\n",
    "                plt.ylim(-0.5*BoxSize,0.5*BoxSize)\n",
    "                for i in range(N):\n",
    "                    plt.plot(pos[i,0]*BoxSize,pos[i,1]*BoxSize,'o',markersize=20,)\n",
    "                display.clear_output(wait=True)\n",
    "                display.display(plt.gcf())\n",
    "        #print(ene_kin_aver[k], ene_pot_aver[k], temperature[k], pressure[k]) \n",
    "\n",
    "    f.close() # Close the file\n",
    "    \n",
    "    return ene_kin_aver, ene_pot_aver, temperature, pressure, pos"
   ]
  },
  {
   "cell_type": "code",
   "execution_count": 7,
   "id": "9f2d8bcc",
   "metadata": {},
   "outputs": [],
   "source": [
    "#ene_kin_aver, ene_pot_aver, temperature, pressure, pos = main(pos,NSteps,deltat,TRequested,DumpFreq,epsilon,BoxSize,DIM)"
   ]
  },
  {
   "cell_type": "code",
   "execution_count": 8,
   "id": "7b61db16",
   "metadata": {},
   "outputs": [],
   "source": [
    "# Plot all of the quantities\n",
    "def plot():\n",
    "    plt.figure(figsize=[7,12])\n",
    "    plt.rc('xtick', labelsize=15) \n",
    "    plt.rc('ytick', labelsize=15)\n",
    "    plt.subplot(4, 1, 1)\n",
    "    plt.plot(ene_kin_aver,'k-')\n",
    "    plt.ylabel(r\"$E_{K}$\", fontsize=20)\n",
    "    plt.subplot(4, 1, 2)\n",
    "    plt.plot(ene_pot_aver,'k-')\n",
    "    plt.ylabel(r\"$E_{P}$\", fontsize=20)\n",
    "    plt.subplot(4, 1, 3)\n",
    "    plt.plot(temperature,'k-')\n",
    "    plt.ylabel(r\"$T$\", fontsize=20)\n",
    "    plt.subplot(4, 1, 4)\n",
    "    plt.plot(pressure,'k-')\n",
    "    plt.ylabel(r\"$P$\", fontsize=20)\n",
    "    plt.show()\n",
    "\n",
    "#plot()"
   ]
  },
  {
   "cell_type": "code",
   "execution_count": 9,
   "id": "48f24757",
   "metadata": {},
   "outputs": [],
   "source": [
    "#print(\"Temperature = \", np.average(temperature), \"+-\", 2*np.std(temperature))"
   ]
  },
  {
   "cell_type": "code",
   "execution_count": 10,
   "id": "2ce5fdbe",
   "metadata": {},
   "outputs": [],
   "source": [
    "#print(\"Pressure = \", np.average(pressure), \"+-\", 2*np.std(pressure))"
   ]
  },
  {
   "cell_type": "markdown",
   "id": "76105974",
   "metadata": {},
   "source": [
    "## Implementation in LAMMPS"
   ]
  },
  {
   "cell_type": "markdown",
   "id": "35795d4d",
   "metadata": {},
   "source": [
    "[LAMMPS](https://www.lammps.org/) is a very fast molecular dynamics package. \n",
    "\n",
    "The input file below performs a much longer simulation in less than a minute. At the top of the this article is the animated video from the simulation where the temperature was reduced from T∗=1.0 to T∗=0.2 showing the nucleation of a crystal."
   ]
  },
  {
   "cell_type": "raw",
   "id": "9f1feafa",
   "metadata": {},
   "source": [
    "# 2d Lennard-Jones melt\n",
    "\n",
    "variable    x index 1\n",
    "variable    y index 1\n",
    "variable    z index 1\n",
    "\n",
    "variable    xx equal 40*$x\n",
    "variable    yy equal 20*$y\n",
    "variable    zz equal 20*$z\n",
    "\n",
    "units        lj\n",
    "atom_style    atomic\n",
    "dimension 2\n",
    "\n",
    "lattice        hex 0.8442 #Set the lattice vector\n",
    "region        box block 0 ${xx} 0 ${yy} 0 1 # Make region for the periodic box\n",
    "region        two block 5 15 5 15 0 1 # Make a region for where the atoms will begin\n",
    "create_box    1 box\n",
    "create_atoms    1 region two # Create the atoms\n",
    "mass        1 1.0\n",
    "\n",
    "velocity    all create 1.44 87285 loop geom # Set their initial velocity which will be scaled during the simulation\n",
    "\n",
    "pair_style    lj/cut 2.5 # Define the intermolecular interaction with the Lennard-Jones function with a cutoff of 2.5\n",
    "pair_coeff    1 1 1.0 1.0 2.5 # Setting the sigma and epsilon values\n",
    "\n",
    "# This neighbor list improves the efficiency of the calculation by only calculating interactions with particles within cutoff+0.3\n",
    "neighbor    0.3 bin \n",
    "neigh_modify    delay 0 every 20 check no\n",
    "\n",
    "dump    1    all xyz 200 io_data/dump.lj #Saves the trajectory to a file to open in VMD\n",
    "#dump    1    all movie 10000 io_data/movie.gif\n",
    "\n",
    "fix        1 all nve # Performs an integration to move the sample through time\n",
    "fix        2 all enforce2d # Make sure there is no forces in the z direction \n",
    "fix        3 all temp/rescale 1 1.0 0.2 0.02 0.5 # This rescales the velocity to keep the temperature constant.\n",
    "run        1000000 #run for this number of steps the default timestep for lj is 0.005 tau "
   ]
  },
  {
   "cell_type": "code",
   "execution_count": 1,
   "id": "892df440",
   "metadata": {},
   "outputs": [
    {
     "ename": "ModuleNotFoundError",
     "evalue": "No module named 'lammps'",
     "output_type": "error",
     "traceback": [
      "\u001b[0;31m---------------------------------------------------------------------------\u001b[0m",
      "\u001b[0;31mModuleNotFoundError\u001b[0m                       Traceback (most recent call last)",
      "Input \u001b[0;32mIn [1]\u001b[0m, in \u001b[0;36m<cell line: 1>\u001b[0;34m()\u001b[0m\n\u001b[0;32m----> 1\u001b[0m \u001b[38;5;28;01mimport\u001b[39;00m \u001b[38;5;21;01mlammps\u001b[39;00m\n",
      "\u001b[0;31mModuleNotFoundError\u001b[0m: No module named 'lammps'"
     ]
    }
   ],
   "source": [
    "import lammps"
   ]
  },
  {
   "cell_type": "code",
   "execution_count": 2,
   "id": "4bd79d88",
   "metadata": {
    "scrolled": true
   },
   "outputs": [
    {
     "name": "stdout",
     "output_type": "stream",
     "text": [
      "LAMMPS (3 Mar 2020)\n",
      "OMP_NUM_THREADS environment is not set. Defaulting to 1 thread. (src/comm.cpp:94)\n",
      "  using 1 OpenMP thread(s) per MPI task\n"
     ]
    }
   ],
   "source": [
    "lmp = lammps.lammps()"
   ]
  },
  {
   "cell_type": "code",
   "execution_count": null,
   "id": "c11fbdad",
   "metadata": {
    "scrolled": true
   },
   "outputs": [],
   "source": [
    "lmp.file(\"io_data/in.lj\")"
   ]
  },
  {
   "cell_type": "markdown",
   "id": "51a59cb7",
   "metadata": {},
   "source": [
    "\n",
    "\n",
    "**Here's an accelerated animation of the output of the simulation above**\n",
    "    <img src=\"io_data/movie.gif\">"
   ]
  }
 ],
 "metadata": {
  "kernelspec": {
   "display_name": "Python 3 (ipykernel)",
   "language": "python",
   "name": "python3"
  },
  "language_info": {
   "codemirror_mode": {
    "name": "ipython",
    "version": 3
   },
   "file_extension": ".py",
   "mimetype": "text/x-python",
   "name": "python",
   "nbconvert_exporter": "python",
   "pygments_lexer": "ipython3",
   "version": "3.9.12"
  },
  "toc": {
   "base_numbering": 1,
   "nav_menu": {},
   "number_sections": true,
   "sideBar": true,
   "skip_h1_title": true,
   "title_cell": "Table of Contents",
   "title_sidebar": "Contents",
   "toc_cell": false,
   "toc_position": {},
   "toc_section_display": true,
   "toc_window_display": true
  }
 },
 "nbformat": 4,
 "nbformat_minor": 5
}
